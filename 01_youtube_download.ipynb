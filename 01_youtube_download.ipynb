{
 "cells": [
  {
   "cell_type": "markdown",
   "id": "b6db8a9b-2a4c-42d6-ab52-8df7d5165a87",
   "metadata": {},
   "source": [
    "# 1. url 의 ' ' 안에 다운 받을 유튜브의 주소 복사 붙여넣기"
   ]
  },
  {
   "cell_type": "code",
   "execution_count": 1,
   "id": "506cb2ad-f5a9-48c4-a890-3883c1b2c96d",
   "metadata": {},
   "outputs": [],
   "source": [
    "url = 'https://www.youtube.com/watch?v=l70hgNTAPdo'"
   ]
  },
  {
   "cell_type": "markdown",
   "id": "029bc3cc-f44f-473a-afa1-991229de583c",
   "metadata": {},
   "source": [
    "# 2. 사용하고 싶은 영상의 시작 시간과 종료 시간을 'hh:mm:ss' (시:분:초) 의 형식으로 입력\n",
    "### 예시) start = '00:02:20' => 2분 20초 부터, end = '00:02:45' => 2분 45초 까지"
   ]
  },
  {
   "cell_type": "code",
   "execution_count": 2,
   "id": "5723e095-a191-4d4d-8aff-959a9155995d",
   "metadata": {},
   "outputs": [],
   "source": [
    "start = '00:01:20'\n",
    "end = '00:01:33'"
   ]
  },
  {
   "cell_type": "markdown",
   "id": "100da1b7-c7fd-46e0-9b9c-dd6ba790a16f",
   "metadata": {},
   "source": [
    "# 3. 노트북 상단의 >> 버튼 클릭 후 downloads 폴더 안에 영상이 다운로드 되었는지 확인"
   ]
  },
  {
   "cell_type": "code",
   "execution_count": 3,
   "id": "35c19aba-24aa-458f-a61d-b12a4678a9c0",
   "metadata": {},
   "outputs": [],
   "source": [
    "from pytube import YouTube\n",
    "DOWNLOAD_FOLDER = \"./downloads\"\n",
    "yt = YouTube(url)\n",
    "stream = yt.streams.get_highest_resolution()"
   ]
  },
  {
   "cell_type": "code",
   "execution_count": 4,
   "id": "93411245-a916-4873-ba43-ad65d925fcf0",
   "metadata": {},
   "outputs": [
    {
     "data": {
      "text/plain": [
       "'/data/stf/github/simswap/./downloads/temp.mp4'"
      ]
     },
     "execution_count": 4,
     "metadata": {},
     "output_type": "execute_result"
    }
   ],
   "source": [
    "\n",
    "#yt.set_filename('temp.mp4')\n",
    "stream.download(DOWNLOAD_FOLDER, filename='temp.mp4')"
   ]
  },
  {
   "cell_type": "code",
   "execution_count": 5,
   "id": "c31fe233-1ac9-466e-8619-215c6a7db9f2",
   "metadata": {},
   "outputs": [
    {
     "name": "stdout",
     "output_type": "stream",
     "text": [
      "ffmpeg version 4.2.2 Copyright (c) 2000-2019 the FFmpeg developers\n",
      "  built with gcc 7.3.0 (crosstool-NG 1.23.0.449-a04d0)\n",
      "  configuration: --prefix=/root/miniconda3/envs/simswap --cc=/tmp/build/80754af9/ffmpeg_1587154242452/_build_env/bin/x86_64-conda_cos6-linux-gnu-cc --disable-doc --enable-avresample --enable-gmp --enable-hardcoded-tables --enable-libfreetype --enable-libvpx --enable-pthreads --enable-libopus --enable-postproc --enable-pic --enable-pthreads --enable-shared --enable-static --enable-version3 --enable-zlib --enable-libmp3lame --disable-nonfree --enable-gpl --enable-gnutls --disable-openssl --enable-libopenh264 --enable-libx264\n",
      "  libavutil      56. 31.100 / 56. 31.100\n",
      "  libavcodec     58. 54.100 / 58. 54.100\n",
      "  libavformat    58. 29.100 / 58. 29.100\n",
      "  libavdevice    58.  8.100 / 58.  8.100\n",
      "  libavfilter     7. 57.100 /  7. 57.100\n",
      "  libavresample   4.  0.  0 /  4.  0.  0\n",
      "  libswscale      5.  5.100 /  5.  5.100\n",
      "  libswresample   3.  5.100 /  3.  5.100\n",
      "  libpostproc    55.  5.100 / 55.  5.100\n",
      "Input #0, mov,mp4,m4a,3gp,3g2,mj2, from './downloads/temp.mp4':\n",
      "  Metadata:\n",
      "    major_brand     : mp42\n",
      "    minor_version   : 0\n",
      "    compatible_brands: isommp42\n",
      "    creation_time   : 2020-12-04T10:23:43.000000Z\n",
      "  Duration: 00:07:38.36, start: 0.000000, bitrate: 420 kb/s\n",
      "    Stream #0:0(und): Video: h264 (Main) (avc1 / 0x31637661), yuv420p(tv, bt709), 1280x720 [SAR 1:1 DAR 16:9], 288 kb/s, 29.97 fps, 29.97 tbr, 30k tbn, 59.94 tbc (default)\n",
      "    Metadata:\n",
      "      creation_time   : 2020-12-04T10:23:43.000000Z\n",
      "      handler_name    : ISO Media file produced by Google Inc. Created on: 12/04/2020.\n",
      "    Stream #0:1(und): Audio: aac (LC) (mp4a / 0x6134706D), 44100 Hz, stereo, fltp, 128 kb/s (default)\n",
      "    Metadata:\n",
      "      creation_time   : 2020-12-04T10:23:43.000000Z\n",
      "      handler_name    : ISO Media file produced by Google Inc. Created on: 12/04/2020.\n",
      "Output #0, mp4, to './downloads/output.mp4':\n",
      "  Metadata:\n",
      "    major_brand     : mp42\n",
      "    minor_version   : 0\n",
      "    compatible_brands: isommp42\n",
      "    encoder         : Lavf58.29.100\n",
      "    Stream #0:0(und): Video: h264 (Main) (avc1 / 0x31637661), yuv420p(tv, bt709), 1280x720 [SAR 1:1 DAR 16:9], q=2-31, 288 kb/s, 29.97 fps, 29.97 tbr, 30k tbn, 30k tbc (default)\n",
      "    Metadata:\n",
      "      creation_time   : 2020-12-04T10:23:43.000000Z\n",
      "      handler_name    : ISO Media file produced by Google Inc. Created on: 12/04/2020.\n",
      "    Stream #0:1(und): Audio: aac (LC) (mp4a / 0x6134706D), 44100 Hz, stereo, fltp, 128 kb/s (default)\n",
      "    Metadata:\n",
      "      creation_time   : 2020-12-04T10:23:43.000000Z\n",
      "      handler_name    : ISO Media file produced by Google Inc. Created on: 12/04/2020.\n",
      "Stream mapping:\n",
      "  Stream #0:0 -> #0:0 (copy)\n",
      "  Stream #0:1 -> #0:1 (copy)\n",
      "Press [q] to stop, [?] for help\n",
      "frame=  312 fps=0.0 q=-1.0 Lsize=     474kB time=00:00:12.99 bitrate= 299.0kbits/s speed=1.08e+03x    \n",
      "video:259kB audio:203kB subtitle:0kB other streams:0kB global headers:0kB muxing overhead: 2.711988%\n"
     ]
    }
   ],
   "source": [
    "!ffmpeg -i ./downloads/temp.mp4 -ss $start -to $end -vcodec copy -acodec copy ./downloads/output.mp4\n",
    "!rm ./downloads/temp.mp4"
   ]
  },
  {
   "cell_type": "code",
   "execution_count": null,
   "id": "311dbcfb-39c0-449f-97a3-1492c6e39bc5",
   "metadata": {},
   "outputs": [],
   "source": []
  }
 ],
 "metadata": {
  "kernelspec": {
   "display_name": "Python 3 (ipykernel)",
   "language": "python",
   "name": "python3"
  },
  "language_info": {
   "codemirror_mode": {
    "name": "ipython",
    "version": 3
   },
   "file_extension": ".py",
   "mimetype": "text/x-python",
   "name": "python",
   "nbconvert_exporter": "python",
   "pygments_lexer": "ipython3",
   "version": "3.9.7"
  }
 },
 "nbformat": 4,
 "nbformat_minor": 5
}
